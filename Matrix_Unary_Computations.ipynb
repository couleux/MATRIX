{
  "nbformat": 4,
  "nbformat_minor": 0,
  "metadata": {
    "colab": {
      "provenance": [],
      "include_colab_link": true
    },
    "kernelspec": {
      "name": "python3",
      "display_name": "Python 3"
    },
    "language_info": {
      "name": "python"
    }
  },
  "cells": [
    {
      "cell_type": "markdown",
      "metadata": {
        "id": "view-in-github",
        "colab_type": "text"
      },
      "source": [
        "<a href=\"https://colab.research.google.com/github/couleux/MATRIX/blob/main/Matrix_Unary_Computations.ipynb\" target=\"_parent\"><img src=\"https://colab.research.google.com/assets/colab-badge.svg\" alt=\"Open In Colab\"/></a>"
      ]
    },
    {
      "cell_type": "code",
      "execution_count": null,
      "metadata": {
        "id": "xqI7NzHreQWW"
      },
      "outputs": [],
      "source": []
    },
    {
      "cell_type": "code",
      "source": [
        "import numpy as np\n",
        "\n",
        "matrix_A = np.array([[1, 2, 3],\n",
        "                     [4, 5, 6],\n",
        "                     [7, 8, 9]])\n",
        "transpose_A = matrix_A.T\n",
        "print(\"Matrix A:\\n\", matrix_A)\n",
        "print(\"\\nTranspose of Matrix A:\\n\", transpose_A)"
      ],
      "metadata": {
        "colab": {
          "base_uri": "https://localhost:8080/"
        },
        "id": "ybtdeOpLeUsQ",
        "outputId": "aa822357-5c77-443b-a5a6-7645cabdd528"
      },
      "execution_count": null,
      "outputs": [
        {
          "output_type": "stream",
          "name": "stdout",
          "text": [
            "Matrix A:\n",
            " [[1 2 3]\n",
            " [4 5 6]\n",
            " [7 8 9]]\n",
            "\n",
            "Transpose of Matrix A:\n",
            " [[1 4 7]\n",
            " [2 5 8]\n",
            " [3 6 9]]\n"
          ]
        }
      ]
    },
    {
      "cell_type": "code",
      "source": [
        "is_symmetric = (matrix_A == matrix_A.T).all()\n",
        "print(\"\\nIs Matrix A symmetric? \", is_symmetric)"
      ],
      "metadata": {
        "colab": {
          "base_uri": "https://localhost:8080/"
        },
        "id": "66PCBiFzegM2",
        "outputId": "1669fb48-9bfb-4007-a853-3d5f653344c2"
      },
      "execution_count": null,
      "outputs": [
        {
          "output_type": "stream",
          "name": "stdout",
          "text": [
            "\n",
            "Is Matrix A symmetric?  False\n"
          ]
        }
      ]
    },
    {
      "cell_type": "code",
      "source": [
        "random_matrix = np.random.randint(1, 10, (4, 4))\n",
        "transpose_random = random_matrix.T\n",
        "is_symmetric_random = (random_matrix == transpose_random).all()\n",
        "print(\"Random Matrix:\\n\", random_matrix)\n",
        "print(\"\\nIs the random matrix symmetric? \", is_symmetric_random)"
      ],
      "metadata": {
        "colab": {
          "base_uri": "https://localhost:8080/"
        },
        "id": "ZzW_VHSkeh4V",
        "outputId": "1eeb68e2-dc1d-4498-9f7f-7f70b3dc0971"
      },
      "execution_count": null,
      "outputs": [
        {
          "output_type": "stream",
          "name": "stdout",
          "text": [
            "Random Matrix:\n",
            " [[9 8 3 2]\n",
            " [9 5 6 3]\n",
            " [8 4 8 4]\n",
            " [8 2 7 3]]\n",
            "\n",
            "Is the random matrix symmetric?  False\n"
          ]
        }
      ]
    },
    {
      "cell_type": "code",
      "source": [
        "trace_A = np.trace(matrix_A)\n",
        "print(\"\\nTrace of Matrix A:\", trace_A)\n"
      ],
      "metadata": {
        "colab": {
          "base_uri": "https://localhost:8080/"
        },
        "id": "NZRNs3G3emdd",
        "outputId": "8eee7341-4840-4d61-bfbc-54489d02c00b"
      },
      "execution_count": null,
      "outputs": [
        {
          "output_type": "stream",
          "name": "stdout",
          "text": [
            "\n",
            "Trace of Matrix A: 15\n"
          ]
        }
      ]
    },
    {
      "cell_type": "code",
      "source": [
        "identity_matrix = np.identity(5)\n",
        "trace_identity = np.trace(identity_matrix)\n",
        "print(\"\\nTrace of 5x5 Identity Matrix:\", trace_identity)\n"
      ],
      "metadata": {
        "colab": {
          "base_uri": "https://localhost:8080/"
        },
        "id": "YZ8b5IUNepFg",
        "outputId": "77ee5994-d692-46cc-90c7-84ae8aa05ab0"
      },
      "execution_count": null,
      "outputs": [
        {
          "output_type": "stream",
          "name": "stdout",
          "text": [
            "\n",
            "Trace of 5x5 Identity Matrix: 5.0\n"
          ]
        }
      ]
    },
    {
      "cell_type": "code",
      "source": [
        "det_A = np.linalg.det(matrix_A)\n",
        "print(\"\\nDeterminant of Matrix A:\", det_A)"
      ],
      "metadata": {
        "colab": {
          "base_uri": "https://localhost:8080/"
        },
        "id": "kAhW461HeuAe",
        "outputId": "9ddd3a36-1096-4851-8a74-9e9924d17f30"
      },
      "execution_count": null,
      "outputs": [
        {
          "output_type": "stream",
          "name": "stdout",
          "text": [
            "\n",
            "Determinant of Matrix A: 0.0\n"
          ]
        }
      ]
    },
    {
      "cell_type": "code",
      "source": [
        "matrix_C = np.array([[4, 6], [3, 8]])\n",
        "det_C = (matrix_C[0, 0] * matrix_C[1, 1]) - (matrix_C[0, 1] * matrix_C[1, 0])\n",
        "print(\"\\nDeterminant of Matrix C:\", det_C)\n"
      ],
      "metadata": {
        "colab": {
          "base_uri": "https://localhost:8080/"
        },
        "id": "y-A9jkxcewK-",
        "outputId": "bc5d209b-93cc-43b6-a3d5-e2c76776a7e0"
      },
      "execution_count": null,
      "outputs": [
        {
          "output_type": "stream",
          "name": "stdout",
          "text": [
            "\n",
            "Determinant of Matrix C: 14\n"
          ]
        }
      ]
    },
    {
      "cell_type": "code",
      "source": [
        "matrix_B = np.array([[2, 4, 3],\n",
        "                     [1, 5, 7],\n",
        "                     [6, 8, 9]])\n",
        "det_B = np.linalg.det(matrix_B)\n",
        "print(\"\\nDeterminant of Matrix B:\", det_B)"
      ],
      "metadata": {
        "colab": {
          "base_uri": "https://localhost:8080/"
        },
        "id": "SmEWGim9eyfO",
        "outputId": "9e5bebe8-d60a-4e3b-c362-58143db4bccc"
      },
      "execution_count": null,
      "outputs": [
        {
          "output_type": "stream",
          "name": "stdout",
          "text": [
            "\n",
            "Determinant of Matrix B: 44.000000000000014\n"
          ]
        }
      ]
    },
    {
      "cell_type": "code",
      "source": [
        "random_matrix_3x3 = np.random.randint(1, 10, (3, 3))\n",
        "transpose_3x3 = random_matrix_3x3.T\n",
        "det_random_3x3 = np.linalg.det(random_matrix_3x3)\n",
        "print(\"\\nRandom 3x3 Matrix:\\n\", random_matrix_3x3)\n",
        "print(\"\\nTranspose of Random 3x3 Matrix:\\n\", transpose_3x3)\n",
        "print(\"\\nDeterminant of Random 3x3 Matrix:\", det_random_3x3)"
      ],
      "metadata": {
        "colab": {
          "base_uri": "https://localhost:8080/"
        },
        "id": "-A_uOAjHe3Mv",
        "outputId": "dea8c96e-c070-4561-c8c6-0ad338b9b9b7"
      },
      "execution_count": null,
      "outputs": [
        {
          "output_type": "stream",
          "name": "stdout",
          "text": [
            "\n",
            "Random 3x3 Matrix:\n",
            " [[7 9 7]\n",
            " [6 1 7]\n",
            " [4 9 7]]\n",
            "\n",
            "Transpose of Random 3x3 Matrix:\n",
            " [[7 6 4]\n",
            " [9 1 9]\n",
            " [7 7 7]]\n",
            "\n",
            "Determinant of Random 3x3 Matrix: -167.99999999999997\n"
          ]
        }
      ]
    },
    {
      "cell_type": "code",
      "source": [
        "symmetric_matrix = np.array([[2, 1, 1],\n",
        "                              [1, 2, 1],\n",
        "                              [1, 1, 2]])\n",
        "is_symmetric_matrix = (symmetric_matrix == symmetric_matrix.T).all()\n",
        "print(\"\\nSymmetric Matrix:\\n\", symmetric_matrix)\n",
        "print(\"\\nIs the matrix symmetric? \", is_symmetric_matrix)"
      ],
      "metadata": {
        "colab": {
          "base_uri": "https://localhost:8080/"
        },
        "id": "FYuVzZjfe6Av",
        "outputId": "76a09e44-1603-41da-9a08-d275e6e98b85"
      },
      "execution_count": null,
      "outputs": [
        {
          "output_type": "stream",
          "name": "stdout",
          "text": [
            "\n",
            "Symmetric Matrix:\n",
            " [[2 1 1]\n",
            " [1 2 1]\n",
            " [1 1 2]]\n",
            "\n",
            "Is the matrix symmetric?  True\n"
          ]
        }
      ]
    }
  ]
}