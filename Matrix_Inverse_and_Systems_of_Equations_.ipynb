{
  "nbformat": 4,
  "nbformat_minor": 0,
  "metadata": {
    "colab": {
      "provenance": [],
      "include_colab_link": true
    },
    "kernelspec": {
      "name": "python3",
      "display_name": "Python 3"
    },
    "language_info": {
      "name": "python"
    }
  },
  "cells": [
    {
      "cell_type": "markdown",
      "metadata": {
        "id": "view-in-github",
        "colab_type": "text"
      },
      "source": [
        "<a href=\"https://colab.research.google.com/github/couleux/MATRIX/blob/main/Matrix_Inverse_and_Systems_of_Equations_.ipynb\" target=\"_parent\"><img src=\"https://colab.research.google.com/assets/colab-badge.svg\" alt=\"Open In Colab\"/></a>"
      ]
    },
    {
      "cell_type": "code",
      "execution_count": null,
      "metadata": {
        "id": "i8-eP2OyjHEF"
      },
      "outputs": [],
      "source": [
        "import numpy as np\n",
        "\n",
        "A = np.array([[4, 7],\n",
        "              [2, 6]])\n"
      ]
    },
    {
      "cell_type": "code",
      "source": [
        "det_A = np.linalg.det(A)\n",
        "print(f\"Determinant of A: {det_A}\")\n",
        "\n",
        "if det_A != 0:\n",
        "    # Calculate the inverse\n",
        "    A_inv = np.linalg.inv(A)\n",
        "    print(\"Inverse of A:\")\n",
        "    print(A_inv)\n",
        "else:\n",
        "    print(\"Matrix A is not invertible.\")"
      ],
      "metadata": {
        "colab": {
          "base_uri": "https://localhost:8080/"
        },
        "id": "oZV_fTi5jRHB",
        "outputId": "f629a5e1-94c7-4105-872d-3f579d112dd2"
      },
      "execution_count": null,
      "outputs": [
        {
          "output_type": "stream",
          "name": "stdout",
          "text": [
            "Determinant of A: 10.000000000000002\n",
            "Inverse of A:\n",
            "[[ 0.6 -0.7]\n",
            " [-0.2  0.4]]\n"
          ]
        }
      ]
    },
    {
      "cell_type": "code",
      "source": [
        "A = np.array([[4, 7],\n",
        "              [2, 6]])\n",
        "\n",
        "# Constant vector\n",
        "b = np.array([10, 8])\n",
        "\n",
        "# Solve for x using matrix inverse\n",
        "if np.linalg.det(A) != 0:\n",
        "    x = np.linalg.inv(A).dot(b)\n",
        "    print(\"Solution for [x, y]:\")\n",
        "    print(x)\n",
        "else:\n",
        "    print(\"Matrix A is not invertible, no unique solution.\")"
      ],
      "metadata": {
        "colab": {
          "base_uri": "https://localhost:8080/"
        },
        "id": "Q_eOvcx7jSj3",
        "outputId": "45f783de-482d-4b93-d404-931e6be0620c"
      },
      "execution_count": null,
      "outputs": [
        {
          "output_type": "stream",
          "name": "stdout",
          "text": [
            "Solution for [x, y]:\n",
            "[0.4 1.2]\n"
          ]
        }
      ]
    },
    {
      "cell_type": "code",
      "source": [
        "def check_and_invert(matrix):\n",
        "    import numpy as np\n",
        "    # Calculate determinant\n",
        "    det = np.linalg.det(matrix)\n",
        "    print(f\"Determinant: {det}\")\n",
        "    if det != 0:\n",
        "        # Calculate and return inverse\n",
        "        inverse = np.linalg.inv(matrix)\n",
        "        return inverse\n",
        "    else:\n",
        "        print(\"The matrix is not invertible.\")\n",
        "        return None\n",
        "\n",
        "# Example usage\n",
        "A = np.array([[1, 2], [3, 4]])\n",
        "result = check_and_invert(A)\n",
        "if result is not None:\n",
        "    print(\"Inverse of the matrix:\")\n",
        "    print(result)\n"
      ],
      "metadata": {
        "colab": {
          "base_uri": "https://localhost:8080/"
        },
        "id": "LAwODmLoji7S",
        "outputId": "66a42c16-d683-4e00-bb26-9d8fbe68168e"
      },
      "execution_count": null,
      "outputs": [
        {
          "output_type": "stream",
          "name": "stdout",
          "text": [
            "Determinant: -2.0000000000000004\n",
            "Inverse of the matrix:\n",
            "[[-2.   1. ]\n",
            " [ 1.5 -0.5]]\n"
          ]
        }
      ]
    }
  ]
}