{
  "nbformat": 4,
  "nbformat_minor": 0,
  "metadata": {
    "colab": {
      "provenance": [],
      "include_colab_link": true
    },
    "kernelspec": {
      "name": "python3",
      "display_name": "Python 3"
    },
    "language_info": {
      "name": "python"
    }
  },
  "cells": [
    {
      "cell_type": "markdown",
      "metadata": {
        "id": "view-in-github",
        "colab_type": "text"
      },
      "source": [
        "<a href=\"https://colab.research.google.com/github/couleux/MATRIX/blob/main/Silva_AdvancedMath.ipynb\" target=\"_parent\"><img src=\"https://colab.research.google.com/assets/colab-badge.svg\" alt=\"Open In Colab\"/></a>"
      ]
    },
    {
      "cell_type": "markdown",
      "source": [
        "### **Exercise 1: Matrix Addition & Subtraction**"
      ],
      "metadata": {
        "id": "Z8CzX6xlDV4J"
      }
    },
    {
      "cell_type": "code",
      "source": [
        "import numpy as np\n",
        "\n",
        "matrix_a = np.array([[1, 2, 3], [4, 5, 6], [7, 8, 9]])\n",
        "matrix_b = np.array([[9, 8, 7], [6, 5, 4], [3, 2, 1]])\n",
        "\n",
        "\n",
        "result_addition = matrix_a + matrix_b\n",
        "print(\"Addition Result:\")\n",
        "print(result_addition)\n",
        "\n",
        "\n",
        "result_subtraction = matrix_a - matrix_b\n",
        "print(\"\\nSubtraction Result:\")\n",
        "print(result_subtraction)"
      ],
      "metadata": {
        "colab": {
          "base_uri": "https://localhost:8080/"
        },
        "id": "SIFZtskpCaHF",
        "outputId": "34bd43cc-0d18-4248-b6b4-06a6b355ed24"
      },
      "execution_count": null,
      "outputs": [
        {
          "output_type": "stream",
          "name": "stdout",
          "text": [
            "Addition Result:\n",
            "[[10 10 10]\n",
            " [10 10 10]\n",
            " [10 10 10]]\n",
            "\n",
            "Subtraction Result:\n",
            "[[-8 -6 -4]\n",
            " [-2  0  2]\n",
            " [ 4  6  8]]\n"
          ]
        }
      ]
    },
    {
      "cell_type": "markdown",
      "source": [
        "### **Exercise 2: Matrix Multiplication**\n",
        "\n"
      ],
      "metadata": {
        "id": "jm5Y887PDpfS"
      }
    },
    {
      "cell_type": "code",
      "source": [
        "import numpy as np\n",
        "\n",
        "matrix_a = np.array([[1, 2, 3], [4, 5, 6]])\n",
        "matrix_b = np.array([[7, 8], [9, 10], [10, 12]])\n",
        "\n",
        "result_multiplication = np.matmul(matrix_a, matrix_b)\n",
        "print(\"Matrix Multiplication Result:\")\n",
        "print(result_multiplication)"
      ],
      "metadata": {
        "colab": {
          "base_uri": "https://localhost:8080/"
        },
        "id": "_lCFa4ceD0Kf",
        "outputId": "ec5c6c0f-2221-46f1-d553-39e476bc91a2"
      },
      "execution_count": null,
      "outputs": [
        {
          "output_type": "stream",
          "name": "stdout",
          "text": [
            "Matrix Multiplication Result:\n",
            "[[ 55  64]\n",
            " [133 154]]\n"
          ]
        }
      ]
    },
    {
      "cell_type": "markdown",
      "source": [
        "### **Exercise 3: Matrix Transpose**"
      ],
      "metadata": {
        "id": "WWbTXX4qD6Mb"
      }
    },
    {
      "cell_type": "code",
      "source": [
        "import numpy as np\n",
        "\n",
        "matrix_a = np.array([[1, 2, 3], [4, 5, 6]])\n",
        "\n",
        "matrix_transpose = np.transpose(matrix_a)\n",
        "\n",
        "print(\"\\nTranspose of the Matrix:\")\n",
        "print(matrix_transpose)"
      ],
      "metadata": {
        "colab": {
          "base_uri": "https://localhost:8080/"
        },
        "id": "2dNZi09sEJRZ",
        "outputId": "cbd9724b-a8fa-4e11-cbe8-67150efda34f"
      },
      "execution_count": null,
      "outputs": [
        {
          "output_type": "stream",
          "name": "stdout",
          "text": [
            "\n",
            "Transpose of the Matrix:\n",
            "[[1 4]\n",
            " [2 5]\n",
            " [3 6]]\n"
          ]
        }
      ]
    },
    {
      "cell_type": "markdown",
      "source": [
        "### **Exercise 4: Calculating the Determinant**\n",
        "\n"
      ],
      "metadata": {
        "id": "47onUqZ5EzHq"
      }
    },
    {
      "cell_type": "code",
      "source": [
        "import numpy as np\n",
        "\n",
        "matrix_a = np.array([[1, 2, 3], [4, 5, 6], [7, 8, 9]])\n",
        "\n",
        "determinant = np.linalg.det(matrix_a)\n",
        "\n",
        "print(\"Determinant of the Matrix:\")\n",
        "print(determinant)"
      ],
      "metadata": {
        "colab": {
          "base_uri": "https://localhost:8080/"
        },
        "id": "3gIEezvkEmAy",
        "outputId": "2f8306c1-3eb2-42e8-ccea-06f5da8af663"
      },
      "execution_count": null,
      "outputs": [
        {
          "output_type": "stream",
          "name": "stdout",
          "text": [
            "Determinant of the Matrix:\n",
            "0.0\n"
          ]
        }
      ]
    },
    {
      "cell_type": "markdown",
      "source": [
        "### **Exercise 5: Finding the Inverse**"
      ],
      "metadata": {
        "id": "YQ3yX4_9E_Uj"
      }
    },
    {
      "cell_type": "code",
      "source": [
        "import numpy as np\n",
        "\n",
        "matrix_a = np.array([[1, 2, 3], [4, 5, 6], [7, 8, 10]])\n",
        "\n",
        "inverse = np.linalg.inv(matrix_a)\n",
        "\n",
        "print(\"Inverse of the Matrix:\")\n",
        "print(inverse)"
      ],
      "metadata": {
        "colab": {
          "base_uri": "https://localhost:8080/"
        },
        "id": "OK7rVAW3E9ry",
        "outputId": "0037c451-68d2-4432-ef4d-86e595756cb1"
      },
      "execution_count": null,
      "outputs": [
        {
          "output_type": "stream",
          "name": "stdout",
          "text": [
            "Inverse of the Matrix:\n",
            "[[-0.66666667 -1.33333333  1.        ]\n",
            " [-0.66666667  3.66666667 -2.        ]\n",
            " [ 1.         -2.          1.        ]]\n"
          ]
        }
      ]
    },
    {
      "cell_type": "code",
      "source": [],
      "metadata": {
        "id": "BYaZCP5iFOQY"
      },
      "execution_count": null,
      "outputs": []
    }
  ]
}